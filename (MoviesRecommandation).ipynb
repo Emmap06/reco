{
 "cells": [
  {
   "cell_type": "markdown",
   "id": "1c1ee7eb",
   "metadata": {},
   "source": [
    "# IMPORTATION DES PACKAGES"
   ]
  },
  {
   "cell_type": "code",
   "execution_count": null,
   "id": "c38887d1",
   "metadata": {},
   "outputs": [],
   "source": [
    "import pandas as pd\n",
    "import numpy as np\n",
    "import streamlit as st\n",
    "from numpy import sqrt\n",
    "import sqlite3"
   ]
  },
  {
   "cell_type": "markdown",
   "id": "c0aac730",
   "metadata": {},
   "source": [
    "# IMPORTATION DE LA BASE DE DONNEES"
   ]
  },
  {
   "cell_type": "code",
   "execution_count": null,
   "id": "2a676998",
   "metadata": {},
   "outputs": [],
   "source": [
    "movies_df = pd.read_csv(\"movies.csv\")\n",
    "ratings_df = pd.read_csv(\"ratings.csv\")\n",
    "movies_df.head()\n",
    "ratings_df.head()"
   ]
  },
  {
   "cell_type": "markdown",
   "id": "1fdb01a8",
   "metadata": {},
   "source": [
    "# FONCTION DE RECOMMANDATION"
   ]
  },
  {
   "cell_type": "code",
   "execution_count": null,
   "id": "f4988e5c",
   "metadata": {},
   "outputs": [],
   "source": [
    "def get_movie_recommendations(userInput, movies_df, ratings_df, top_n=10):\n",
    "    # Récupérer les utilisateurs ayant vu les films notés par notre utilisateur actif\n",
    "    inputMovies = pd.DataFrame(userInput)\n",
    "    inputId = movies_df[movies_df['title'].isin(inputMovies['title'].tolist())]\n",
    "    inputMovies = pd.merge(inputId, inputMovies)\n",
    "    userSubset = ratings_df[ratings_df['movieId'].isin(inputMovies['movieId'].tolist())]\n",
    "\n",
    "    # Regroupons ensuite les lignes par userID\n",
    "    userSubsetGroup = userSubset.groupby(['userId'])\n",
    "    userSubsetGroup = sorted(userSubsetGroup, key=lambda x: len(x[1]), reverse=True)\n",
    "\n",
    "    # Constituer un sous-ensemble de 100 utilisateurs les plus similaires\n",
    "    userSubsetGroup = userSubsetGroup[0:100]\n",
    "\n",
    "    pearsonCorrelationDict = {}\n",
    "    for name, group in userSubsetGroup:\n",
    "        group = group.sort_values(by='movieId')\n",
    "        inputMovies = inputMovies.sort_values(by='movieId')\n",
    "        nRatings = len(group)\n",
    "\n",
    "        temp_df = inputMovies[inputMovies['movieId'].isin(group['movieId'].tolist())]\n",
    "        tempRatingList = temp_df['rating'].tolist()\n",
    "        tempGroupList = group['rating'].tolist()\n",
    "\n",
    "        Sxx = sum([i**2 for i in tempRatingList]) - pow(sum(tempRatingList), 2) / float(nRatings)\n",
    "        Syy = sum([i**2 for i in tempGroupList]) - pow(sum(tempGroupList), 2) / float(nRatings)\n",
    "        Sxy = sum(i * j for i, j in zip(tempRatingList, tempGroupList)) - sum(tempRatingList) * sum(tempGroupList) / float(nRatings)\n",
    "\n",
    "        if Sxx != 0 and Syy != 0:\n",
    "            pearsonCorrelationDict[name] = Sxy / sqrt(Sxx * Syy)\n",
    "        else:\n",
    "            pearsonCorrelationDict[name] = 0\n",
    "\n",
    "    pearsonDF = pd.DataFrame.from_dict(pearsonCorrelationDict, orient='index')\n",
    "    pearsonDF.columns = ['similarityIndex']\n",
    "    pearsonDF['userId'] = pearsonDF.index\n",
    "    pearsonDF.index = range(len(pearsonDF))\n",
    "\n",
    "    # Récupérer les utilisateurs les plus similaires\n",
    "    topUsers = pearsonDF.sort_values(by='similarityIndex', ascending=False)[0:50]\n",
    "\n",
    "    # Fusionner les utilisateurs similaires avec les notes des films\n",
    "    topUsersRating = topUsers.merge(ratings_df, left_on='userId', right_on='userId', how='inner')\n",
    "\n",
    "    # Multiplier l'index de similarité par les ratings\n",
    "    topUsersRating['weightedRating'] = topUsersRating['similarityIndex'] * topUsersRating['rating']\n",
    "\n",
    "    # Somme des colonnes correspondantes aux Top Users, après avoir groupé par movieId\n",
    "    tempTopUsersRating = topUsersRating.groupby('movieId').sum()[['similarityIndex', 'weightedRating']]\n",
    "    tempTopUsersRating.columns = ['sum_similarityIndex', 'sum_weightedRating']\n",
    "\n",
    "    # Créer un dataframe vide\n",
    "    recommendation_df = pd.DataFrame()\n",
    "\n",
    "    # Calculer la moyenne pondérée\n",
    "    recommendation_df['weighted average recommendation score'] = tempTopUsersRating['sum_weightedRating'] / tempTopUsersRating['sum_similarityIndex']\n",
    "\n",
    "    # Ordonner les films par score de recommandation\n",
    "    recommendation_df = recommendation_df.sort_values(by='weighted average recommendation score', ascending=False)\n",
    "\n",
    "    # Récupérer les détails des films recommandés\n",
    "    recommendation_dfinal = recommendation_df.merge(movies_df, on='movieId')\n",
    "\n",
    "    # Obtenir les noms des films recommandés\n",
    "    recommended_movies = movies_df.loc[movies_df['movieId'].isin(recommendation_dfinal.head(top_n)['movieId'].tolist())]\n",
    "\n",
    "    return recommended_movies\n",
    "\n",
    "# Exemple d'utilisation\n",
    "userInput = [\n",
    "    {'title': 'Breakfast Club, The', 'rating': 5},\n",
    "    {'title': 'Toy Story', 'rating': 3.5},\n",
    "    {'title': 'Jumanji', 'rating': 2},\n",
    "    {'title': 'Pulp Fiction', 'rating': 5},\n",
    "    {'title': 'Akira', 'rating': 4.5}\n",
    "]\n",
    "\n",
    "movies_df = pd.read_csv(\"movies.csv\")\n",
    "ratings_df = pd.read_csv(\"ratings.csv\")\n",
    "\n",
    "\n",
    "recommended_movies = get_movie_recommendations(userInput, movies_df, ratings_df, top_n=10)\n",
    "print(recommended_movies)"
   ]
  },
  {
   "cell_type": "markdown",
   "id": "49b5dc35",
   "metadata": {},
   "source": [
    "# FONCTION DE L'APPLICATION"
   ]
  },
  {
   "cell_type": "code",
   "execution_count": null,
   "id": "23dc86f5",
   "metadata": {},
   "outputs": [],
   "source": [
    "def movie_recommendation_app():\n",
    "    # Charger les données\n",
    "    movies_df = pd.read_csv(\"movies.csv\")\n",
    "    ratings_df = pd.read_csv(\"ratings.csv\")\n",
    "\n",
    "    # Titre de l'application\n",
    "    st.title(\"Système de Recommandation de Films\")\n",
    "\n",
    "    # Formulaire pour que l'utilisateur entre ses notes\n",
    "    st.subheader('Entrez vos notes pour les films:')\n",
    "    userInput = []\n",
    "    for i in range(5):\n",
    "        title = st.text_input(f\"Titre du film {i+1}\", '')\n",
    "        rating = st.slider(f\"Note pour le film {i+1}\", min_value=0.5, max_value=5.0, step=0.5)\n",
    "        if title and rating:\n",
    "            userInput.append({'title': title, 'rating': rating})\n",
    "\n",
    "    # Bouton pour lancer la recommandation\n",
    "    if st.button('Obtenir les recommandations'):\n",
    "        if userInput:\n",
    "            recommended_movies = get_movie_recommendations(userInput, movies_df, ratings_df, top_n=10)\n",
    "            st.subheader('Films Recommandés:')\n",
    "            st.dataframe(recommended_movies[['title', 'genres']])\n",
    "        else:\n",
    "            st.warning('Veuillez entrer au moins une note pour obtenir des recommandations.')\n",
    "\n",
    "if __name__ == \"__main__\":\n",
    "    movie_recommendation_app()"
   ]
  }
 ],
 "metadata": {
  "kernelspec": {
   "display_name": "Python 3 (ipykernel)",
   "language": "python",
   "name": "python3"
  },
  "language_info": {
   "codemirror_mode": {
    "name": "ipython",
    "version": 3
   },
   "file_extension": ".py",
   "mimetype": "text/x-python",
   "name": "python",
   "nbconvert_exporter": "python",
   "pygments_lexer": "ipython3",
   "version": "3.10.9"
  }
 },
 "nbformat": 4,
 "nbformat_minor": 5
}
